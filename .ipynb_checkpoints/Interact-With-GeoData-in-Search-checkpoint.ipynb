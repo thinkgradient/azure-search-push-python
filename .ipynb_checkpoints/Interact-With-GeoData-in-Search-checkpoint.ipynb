{
 "cells": [
  {
   "cell_type": "code",
   "execution_count": 2,
   "metadata": {},
   "outputs": [],
   "source": [
    "import requests\n",
    "import json"
   ]
  },
  {
   "cell_type": "code",
   "execution_count": 13,
   "metadata": {},
   "outputs": [],
   "source": [
    "# variables\n",
    "search_service = \"<insert search service name>\"\n",
    "index_name = \"<insert search index name>\"\n"
   ]
  },
  {
   "cell_type": "code",
   "execution_count": 14,
   "metadata": {},
   "outputs": [],
   "source": [
    "url = \"https://\" + search_service + \".search.windows.net/indexes/\" + index_name + \"/docs/search?api-version=2020-06-30\""
   ]
  },
  {
   "cell_type": "code",
   "execution_count": 19,
   "metadata": {},
   "outputs": [],
   "source": [
    "\n",
    "myobj = {\n",
    "    \"queryType\": \"full\",\n",
    "    \"search\": \"\",\n",
    "    \"searchFields\": \"\",\n",
    "    \"select\": \"flight,Geo\",\n",
    "    \"count\": \"true\",\n",
    "    \"filter\": \"flight eq 'N925G   '\"\n",
    "}\n",
    "headers = {\"api-key\": \"<insert search service key>\", \"Content-Type\":\"application/json\"}\n",
    "\n",
    "x = requests.post(url, data = json.dumps(myobj), headers=headers)\n",
    "\n"
   ]
  },
  {
   "cell_type": "code",
   "execution_count": 20,
   "metadata": {},
   "outputs": [
    {
     "data": {
      "text/plain": [
       "{'@odata.context': \"https://bigeosearch.search.windows.net/indexes('flightindex')/$metadata#docs(*)\",\n",
       " '@odata.count': 2,\n",
       " 'value': [{'@search.score': 1.0,\n",
       "   'flight': 'N925G   ',\n",
       "   'Geo': {'type': 'Point',\n",
       "    'coordinates': [-74.060882, 40.85464],\n",
       "    'crs': {'type': 'name', 'properties': {'name': 'EPSG:4326'}}}},\n",
       "  {'@search.score': 1.0,\n",
       "   'flight': 'N925G   ',\n",
       "   'Geo': {'type': 'Point',\n",
       "    'coordinates': [-74.060867, 40.854651],\n",
       "    'crs': {'type': 'name', 'properties': {'name': 'EPSG:4326'}}}}]}"
      ]
     },
     "execution_count": 20,
     "metadata": {},
     "output_type": "execute_result"
    }
   ],
   "source": [
    "json.loads(x.text)"
   ]
  },
  {
   "cell_type": "code",
   "execution_count": 23,
   "metadata": {},
   "outputs": [],
   "source": [
    "## First Geo location of flight N925G   \n",
    "first_location = json.loads(x.text)['value'][0]['Geo']"
   ]
  },
  {
   "cell_type": "code",
   "execution_count": 24,
   "metadata": {},
   "outputs": [
    {
     "data": {
      "text/plain": [
       "{'type': 'Point',\n",
       " 'coordinates': [-74.060882, 40.85464],\n",
       " 'crs': {'type': 'name', 'properties': {'name': 'EPSG:4326'}}}"
      ]
     },
     "execution_count": 24,
     "metadata": {},
     "output_type": "execute_result"
    }
   ],
   "source": [
    "first_location"
   ]
  },
  {
   "cell_type": "code",
   "execution_count": 25,
   "metadata": {},
   "outputs": [],
   "source": [
    "## Second Geo location of flight N925G   \n",
    "second_location = json.loads(x.text)['value'][1]['Geo']"
   ]
  },
  {
   "cell_type": "code",
   "execution_count": 39,
   "metadata": {},
   "outputs": [
    {
     "data": {
      "text/plain": [
       "{'type': 'Point',\n",
       " 'coordinates': [-74.060867, 40.854651],\n",
       " 'crs': {'type': 'name', 'properties': {'name': 'EPSG:4326'}}}"
      ]
     },
     "execution_count": 39,
     "metadata": {},
     "output_type": "execute_result"
    }
   ],
   "source": [
    "second_location"
   ]
  },
  {
   "cell_type": "code",
   "execution_count": 45,
   "metadata": {},
   "outputs": [],
   "source": [
    "myobj = {\n",
    "    \"queryType\": \"full\",\n",
    "    \"search\": \"*\",\n",
    "    \"searchFields\": \"\",\n",
    "    \"select\": \"flight\",\n",
    "    \"count\": \"true\",\n",
    "    \"filter\": \"geo.distance(Geo, geography'POINT(-71.060867 42.854651)') le 10\"\n",
    "}\n",
    "\n",
    "x = requests.post(url, data = json.dumps(myobj), headers=headers)"
   ]
  },
  {
   "cell_type": "code",
   "execution_count": 46,
   "metadata": {},
   "outputs": [
    {
     "data": {
      "text/plain": [
       "{'@odata.context': \"https://bigeosearch.search.windows.net/indexes('flightindex')/$metadata#docs(*)\",\n",
       " '@odata.count': 4,\n",
       " 'value': [{'@search.score': 1.0, 'flight': 'N7931K  '},\n",
       "  {'@search.score': 1.0, 'flight': 'N7931K  '},\n",
       "  {'@search.score': 1.0, 'flight': 'N442MG  '},\n",
       "  {'@search.score': 1.0, 'flight': 'N442MG  '}]}"
      ]
     },
     "execution_count": 46,
     "metadata": {},
     "output_type": "execute_result"
    }
   ],
   "source": [
    "json.loads(x.text)"
   ]
  },
  {
   "cell_type": "code",
   "execution_count": null,
   "metadata": {},
   "outputs": [],
   "source": []
  }
 ],
 "metadata": {
  "kernelspec": {
   "display_name": "Python 3.7.4 64-bit (conda)",
   "language": "python",
   "name": "python37464bitconda92af5ceb5c3446b4bef67bc2a88383b5"
  },
  "language_info": {
   "codemirror_mode": {
    "name": "ipython",
    "version": 3
   },
   "file_extension": ".py",
   "mimetype": "text/x-python",
   "name": "python",
   "nbconvert_exporter": "python",
   "pygments_lexer": "ipython3",
   "version": "3.7.4"
  }
 },
 "nbformat": 4,
 "nbformat_minor": 2
}
